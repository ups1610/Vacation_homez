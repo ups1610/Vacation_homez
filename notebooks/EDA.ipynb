{
 "cells": [
  {
   "cell_type": "code",
   "execution_count": 2,
   "metadata": {},
   "outputs": [],
   "source": [
    "import pandas as pd\n",
    "import matplotlib.pyplot as plt\n",
    "import seaborn as sns\n",
    "import warnings\n",
    "warnings.filterwarnings('ignore')"
   ]
  },
  {
   "cell_type": "code",
   "execution_count": 4,
   "metadata": {},
   "outputs": [],
   "source": [
    "# load dataset\n",
    "df = pd.read_excel('data/CaseStudy_20190517.xlsx')"
   ]
  },
  {
   "cell_type": "code",
   "execution_count": 5,
   "metadata": {},
   "outputs": [
    {
     "data": {
      "text/html": [
       "<div>\n",
       "<style scoped>\n",
       "    .dataframe tbody tr th:only-of-type {\n",
       "        vertical-align: middle;\n",
       "    }\n",
       "\n",
       "    .dataframe tbody tr th {\n",
       "        vertical-align: top;\n",
       "    }\n",
       "\n",
       "    .dataframe thead th {\n",
       "        text-align: right;\n",
       "    }\n",
       "</style>\n",
       "<table border=\"1\" class=\"dataframe\">\n",
       "  <thead>\n",
       "    <tr style=\"text-align: right;\">\n",
       "      <th></th>\n",
       "      <th>id</th>\n",
       "      <th>log_price</th>\n",
       "      <th>property_type</th>\n",
       "      <th>room_type</th>\n",
       "      <th>amenities</th>\n",
       "      <th>accommodates</th>\n",
       "      <th>bathrooms</th>\n",
       "      <th>bed_type</th>\n",
       "      <th>cancellation_policy</th>\n",
       "      <th>cleaning_fee</th>\n",
       "      <th>...</th>\n",
       "      <th>last_review</th>\n",
       "      <th>latitude</th>\n",
       "      <th>longitude</th>\n",
       "      <th>name</th>\n",
       "      <th>neighbourhood</th>\n",
       "      <th>number_of_reviews</th>\n",
       "      <th>review_scores_rating</th>\n",
       "      <th>zipcode</th>\n",
       "      <th>bedrooms</th>\n",
       "      <th>beds</th>\n",
       "    </tr>\n",
       "  </thead>\n",
       "  <tbody>\n",
       "    <tr>\n",
       "      <th>0</th>\n",
       "      <td>6901257</td>\n",
       "      <td>5.010635</td>\n",
       "      <td>Apartment</td>\n",
       "      <td>Entire home/apt</td>\n",
       "      <td>{\"Wireless Internet\",\"Air conditioning\",Kitche...</td>\n",
       "      <td>3</td>\n",
       "      <td>1.0</td>\n",
       "      <td>Real Bed</td>\n",
       "      <td>strict</td>\n",
       "      <td>True</td>\n",
       "      <td>...</td>\n",
       "      <td>2016-07-18</td>\n",
       "      <td>40.696524</td>\n",
       "      <td>-73.991617</td>\n",
       "      <td>Beautiful brownstone 1-bedroom</td>\n",
       "      <td>Brooklyn Heights</td>\n",
       "      <td>2</td>\n",
       "      <td>100.0</td>\n",
       "      <td>11201</td>\n",
       "      <td>1.0</td>\n",
       "      <td>1.0</td>\n",
       "    </tr>\n",
       "    <tr>\n",
       "      <th>1</th>\n",
       "      <td>5578513</td>\n",
       "      <td>4.605170</td>\n",
       "      <td>Apartment</td>\n",
       "      <td>Private room</td>\n",
       "      <td>{Internet,\"Wireless Internet\",\"Air conditionin...</td>\n",
       "      <td>2</td>\n",
       "      <td>1.0</td>\n",
       "      <td>Real Bed</td>\n",
       "      <td>strict</td>\n",
       "      <td>True</td>\n",
       "      <td>...</td>\n",
       "      <td>2016-11-15</td>\n",
       "      <td>40.723883</td>\n",
       "      <td>-73.983880</td>\n",
       "      <td>Large East Village Bedroom To Let!</td>\n",
       "      <td>Alphabet City</td>\n",
       "      <td>82</td>\n",
       "      <td>93.0</td>\n",
       "      <td>10009</td>\n",
       "      <td>1.0</td>\n",
       "      <td>1.0</td>\n",
       "    </tr>\n",
       "    <tr>\n",
       "      <th>2</th>\n",
       "      <td>17423675</td>\n",
       "      <td>5.010635</td>\n",
       "      <td>House</td>\n",
       "      <td>Entire home/apt</td>\n",
       "      <td>{TV,\"Cable TV\",Internet,\"Wireless Internet\",Ki...</td>\n",
       "      <td>4</td>\n",
       "      <td>1.5</td>\n",
       "      <td>Real Bed</td>\n",
       "      <td>strict</td>\n",
       "      <td>True</td>\n",
       "      <td>...</td>\n",
       "      <td>2016-11-18</td>\n",
       "      <td>33.875862</td>\n",
       "      <td>-118.403293</td>\n",
       "      <td>Sand Section Beach Bungalow</td>\n",
       "      <td>Hermosa Beach</td>\n",
       "      <td>29</td>\n",
       "      <td>97.0</td>\n",
       "      <td>90254</td>\n",
       "      <td>2.0</td>\n",
       "      <td>2.0</td>\n",
       "    </tr>\n",
       "    <tr>\n",
       "      <th>3</th>\n",
       "      <td>14066228</td>\n",
       "      <td>4.248495</td>\n",
       "      <td>Apartment</td>\n",
       "      <td>Private room</td>\n",
       "      <td>{TV,Internet,\"Wireless Internet\",Kitchen,\"Free...</td>\n",
       "      <td>2</td>\n",
       "      <td>1.0</td>\n",
       "      <td>Real Bed</td>\n",
       "      <td>flexible</td>\n",
       "      <td>True</td>\n",
       "      <td>...</td>\n",
       "      <td>NaT</td>\n",
       "      <td>33.813228</td>\n",
       "      <td>-118.389434</td>\n",
       "      <td>Beach Pad 1 min walk to the ocean!</td>\n",
       "      <td>Torrance</td>\n",
       "      <td>0</td>\n",
       "      <td>NaN</td>\n",
       "      <td>90277</td>\n",
       "      <td>1.0</td>\n",
       "      <td>1.0</td>\n",
       "    </tr>\n",
       "    <tr>\n",
       "      <th>4</th>\n",
       "      <td>583490</td>\n",
       "      <td>4.955827</td>\n",
       "      <td>Apartment</td>\n",
       "      <td>Entire home/apt</td>\n",
       "      <td>{Kitchen,Heating,\"Smoke detector\",\"Carbon mono...</td>\n",
       "      <td>2</td>\n",
       "      <td>1.0</td>\n",
       "      <td>Real Bed</td>\n",
       "      <td>strict</td>\n",
       "      <td>True</td>\n",
       "      <td>...</td>\n",
       "      <td>2017-04-06</td>\n",
       "      <td>33.778526</td>\n",
       "      <td>-118.145926</td>\n",
       "      <td>VINTAGE 1930s Mediteranian Apt. (NOT a party S...</td>\n",
       "      <td>NaN</td>\n",
       "      <td>2</td>\n",
       "      <td>100.0</td>\n",
       "      <td>90804</td>\n",
       "      <td>1.0</td>\n",
       "      <td>1.0</td>\n",
       "    </tr>\n",
       "  </tbody>\n",
       "</table>\n",
       "<p>5 rows × 27 columns</p>\n",
       "</div>"
      ],
      "text/plain": [
       "         id  log_price property_type        room_type  \\\n",
       "0   6901257   5.010635     Apartment  Entire home/apt   \n",
       "1   5578513   4.605170     Apartment     Private room   \n",
       "2  17423675   5.010635         House  Entire home/apt   \n",
       "3  14066228   4.248495     Apartment     Private room   \n",
       "4    583490   4.955827     Apartment  Entire home/apt   \n",
       "\n",
       "                                           amenities  accommodates  bathrooms  \\\n",
       "0  {\"Wireless Internet\",\"Air conditioning\",Kitche...             3        1.0   \n",
       "1  {Internet,\"Wireless Internet\",\"Air conditionin...             2        1.0   \n",
       "2  {TV,\"Cable TV\",Internet,\"Wireless Internet\",Ki...             4        1.5   \n",
       "3  {TV,Internet,\"Wireless Internet\",Kitchen,\"Free...             2        1.0   \n",
       "4  {Kitchen,Heating,\"Smoke detector\",\"Carbon mono...             2        1.0   \n",
       "\n",
       "   bed_type cancellation_policy  cleaning_fee  ... last_review   latitude  \\\n",
       "0  Real Bed              strict          True  ...  2016-07-18  40.696524   \n",
       "1  Real Bed              strict          True  ...  2016-11-15  40.723883   \n",
       "2  Real Bed              strict          True  ...  2016-11-18  33.875862   \n",
       "3  Real Bed            flexible          True  ...         NaT  33.813228   \n",
       "4  Real Bed              strict          True  ...  2017-04-06  33.778526   \n",
       "\n",
       "    longitude                                               name  \\\n",
       "0  -73.991617                     Beautiful brownstone 1-bedroom   \n",
       "1  -73.983880                 Large East Village Bedroom To Let!   \n",
       "2 -118.403293                        Sand Section Beach Bungalow   \n",
       "3 -118.389434                 Beach Pad 1 min walk to the ocean!   \n",
       "4 -118.145926  VINTAGE 1930s Mediteranian Apt. (NOT a party S...   \n",
       "\n",
       "      neighbourhood number_of_reviews review_scores_rating zipcode  bedrooms  \\\n",
       "0  Brooklyn Heights                 2                100.0   11201       1.0   \n",
       "1     Alphabet City                82                 93.0   10009       1.0   \n",
       "2     Hermosa Beach                29                 97.0   90254       2.0   \n",
       "3          Torrance                 0                  NaN   90277       1.0   \n",
       "4               NaN                 2                100.0   90804       1.0   \n",
       "\n",
       "   beds  \n",
       "0   1.0  \n",
       "1   1.0  \n",
       "2   2.0  \n",
       "3   1.0  \n",
       "4   1.0  \n",
       "\n",
       "[5 rows x 27 columns]"
      ]
     },
     "execution_count": 5,
     "metadata": {},
     "output_type": "execute_result"
    }
   ],
   "source": [
    "df.head()"
   ]
  },
  {
   "cell_type": "code",
   "execution_count": 6,
   "metadata": {},
   "outputs": [
    {
     "data": {
      "text/plain": [
       "(36795, 27)"
      ]
     },
     "execution_count": 6,
     "metadata": {},
     "output_type": "execute_result"
    }
   ],
   "source": [
    "df.shape"
   ]
  },
  {
   "cell_type": "code",
   "execution_count": 7,
   "metadata": {},
   "outputs": [
    {
     "name": "stdout",
     "output_type": "stream",
     "text": [
      "<class 'pandas.core.frame.DataFrame'>\n",
      "RangeIndex: 36795 entries, 0 to 36794\n",
      "Data columns (total 27 columns):\n",
      " #   Column                Non-Null Count  Dtype         \n",
      "---  ------                --------------  -----         \n",
      " 0   id                    36795 non-null  int64         \n",
      " 1   log_price             36795 non-null  float64       \n",
      " 2   property_type         36795 non-null  object        \n",
      " 3   room_type             36795 non-null  object        \n",
      " 4   amenities             36795 non-null  object        \n",
      " 5   accommodates          36795 non-null  int64         \n",
      " 6   bathrooms             36657 non-null  float64       \n",
      " 7   bed_type              36795 non-null  object        \n",
      " 8   cancellation_policy   36795 non-null  object        \n",
      " 9   cleaning_fee          36795 non-null  bool          \n",
      " 10  city                  36795 non-null  object        \n",
      " 11  description           36774 non-null  object        \n",
      " 12  first_review          28564 non-null  datetime64[ns]\n",
      " 13  host_has_profile_pic  36668 non-null  float64       \n",
      " 14  host_response_rate    25667 non-null  float64       \n",
      " 15  host_since            36668 non-null  datetime64[ns]\n",
      " 16  instant_bookable      36795 non-null  object        \n",
      " 17  last_review           28589 non-null  datetime64[ns]\n",
      " 18  latitude              36795 non-null  float64       \n",
      " 19  longitude             36795 non-null  float64       \n",
      " 20  name                  36794 non-null  object        \n",
      " 21  neighbourhood         33514 non-null  object        \n",
      " 22  number_of_reviews     36795 non-null  int64         \n",
      " 23  review_scores_rating  28080 non-null  float64       \n",
      " 24  zipcode               36271 non-null  object        \n",
      " 25  bedrooms              36740 non-null  float64       \n",
      " 26  beds                  36723 non-null  float64       \n",
      "dtypes: bool(1), datetime64[ns](3), float64(9), int64(3), object(11)\n",
      "memory usage: 7.3+ MB\n"
     ]
    }
   ],
   "source": [
    "df.info()"
   ]
  },
  {
   "cell_type": "code",
   "execution_count": 12,
   "metadata": {},
   "outputs": [],
   "source": [
    "# convert protopype column into numerical column\n",
    "from sklearn.preprocessing import LabelEncoder\n",
    "label_encoder = LabelEncoder()\n",
    "\n",
    "## apartment = 0 and home = 1\n",
    "df['property_type'] = label_encoder.fit_transform(df['property_type'])"
   ]
  },
  {
   "cell_type": "code",
   "execution_count": 18,
   "metadata": {},
   "outputs": [
    {
     "data": {
      "text/plain": [
       "array(['Entire home/apt', 'Private room', 'Shared room'], dtype=object)"
      ]
     },
     "metadata": {},
     "output_type": "display_data"
    },
    {
     "data": {
      "text/plain": [
       "array(['Real Bed', 'Futon', 'Pull-out Sofa', 'Couch', 'Airbed'],\n",
       "      dtype=object)"
      ]
     },
     "metadata": {},
     "output_type": "display_data"
    },
    {
     "data": {
      "text/plain": [
       "array(['strict', 'flexible', 'moderate'], dtype=object)"
      ]
     },
     "metadata": {},
     "output_type": "display_data"
    },
    {
     "data": {
      "text/plain": [
       "array([ True, False])"
      ]
     },
     "metadata": {},
     "output_type": "display_data"
    }
   ],
   "source": [
    "display(df['room_type'].unique())\n",
    "display(df['bed_type'].unique())\n",
    "display(df['cancellation_policy'].unique())\n",
    "display(df['cleaning_fee'].unique())"
   ]
  },
  {
   "cell_type": "code",
   "execution_count": 19,
   "metadata": {},
   "outputs": [],
   "source": [
    "room_type_map = {'Entire home/apt':1 ,'Private room':2,'Shared room':3}\n",
    "bed_type_map = {'Real Bed': 1,'Futon':2,'Pull-out Sofa':3,'Couch':4,'Airbed':5 }\n",
    "cancellation_map = {'strict':1,'flexible':2,'moderate':3}\n",
    "cleaning_map = {'True':1,'False':0}"
   ]
  },
  {
   "cell_type": "code",
   "execution_count": 22,
   "metadata": {},
   "outputs": [],
   "source": [
    "df['room_type'] = df['room_type'].map(room_type_map).astype('float')\n",
    "df['bed_type'] = df['bed_type'].map(bed_type_map).astype('float')\n",
    "df['cancellation_policy'] = df['cancellation_policy'].map(cancellation_map).astype('float')\n",
    "df['cleaning_fee'] = df['cleaning_fee'].map(cleaning_map).astype('float')"
   ]
  },
  {
   "cell_type": "code",
   "execution_count": null,
   "metadata": {},
   "outputs": [],
   "source": []
  }
 ],
 "metadata": {
  "kernelspec": {
   "display_name": "Python 3",
   "language": "python",
   "name": "python3"
  },
  "language_info": {
   "codemirror_mode": {
    "name": "ipython",
    "version": 3
   },
   "file_extension": ".py",
   "mimetype": "text/x-python",
   "name": "python",
   "nbconvert_exporter": "python",
   "pygments_lexer": "ipython3",
   "version": "3.8.17"
  },
  "orig_nbformat": 4
 },
 "nbformat": 4,
 "nbformat_minor": 2
}
